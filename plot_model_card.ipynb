{
 "cells": [
  {
   "cell_type": "code",
   "execution_count": 1,
   "metadata": {
    "collapsed": false,
    "jupyter": {
     "outputs_hidden": false
    }
   },
   "outputs": [],
   "source": [
    "%matplotlib inline"
   ]
  },
  {
   "cell_type": "markdown",
   "metadata": {},
   "source": [
    "\n",
    "# scikit-learn model cards\n",
    "\n",
    "This guide demonstrates how you can use this package to create a model card on a\n",
    "scikit-learn compatible model and save it.\n"
   ]
  },
  {
   "cell_type": "markdown",
   "metadata": {},
   "source": [
    "## Imports\n",
    "First we will import everything required for the rest of this document.\n",
    "\n"
   ]
  },
  {
   "cell_type": "code",
   "execution_count": 8,
   "metadata": {
    "collapsed": false,
    "jupyter": {
     "outputs_hidden": false
    }
   },
   "outputs": [],
   "source": [
    "import os\n",
    "import string\n",
    "import pickle\n",
    "import random\n",
    "from pathlib import Path\n",
    "from tempfile import mkdtemp, mkstemp\n",
    "\n",
    "import pandas as pd\n",
    "import sklearn\n",
    "from sklearn.datasets import load_breast_cancer\n",
    "from sklearn.ensemble import HistGradientBoostingClassifier\n",
    "from sklearn.experimental import enable_halving_search_cv  # noqa\n",
    "from sklearn.metrics import (\n",
    "    ConfusionMatrixDisplay,\n",
    "    accuracy_score,\n",
    "    classification_report,\n",
    "    confusion_matrix,\n",
    "    f1_score,\n",
    ")\n",
    "from sklearn.model_selection import HalvingGridSearchCV, train_test_split\n",
    "\n",
    "from skops import hub_utils\n",
    "from skops.card import Card, metadata_from_config"
   ]
  },
  {
   "cell_type": "markdown",
   "metadata": {},
   "source": [
    "## Data\n",
    "We load breast cancer dataset from sklearn.\n",
    "\n"
   ]
  },
  {
   "cell_type": "code",
   "execution_count": 3,
   "metadata": {
    "collapsed": false,
    "jupyter": {
     "outputs_hidden": false
    }
   },
   "outputs": [
    {
     "name": "stdout",
     "output_type": "stream",
     "text": [
      "X's summary:         mean radius  mean texture  mean perimeter    mean area  \\\n",
      "count   569.000000    569.000000      569.000000   569.000000   \n",
      "mean     14.127292     19.289649       91.969033   654.889104   \n",
      "std       3.524049      4.301036       24.298981   351.914129   \n",
      "min       6.981000      9.710000       43.790000   143.500000   \n",
      "25%      11.700000     16.170000       75.170000   420.300000   \n",
      "50%      13.370000     18.840000       86.240000   551.100000   \n",
      "75%      15.780000     21.800000      104.100000   782.700000   \n",
      "max      28.110000     39.280000      188.500000  2501.000000   \n",
      "\n",
      "       mean smoothness  mean compactness  mean concavity  mean concave points  \\\n",
      "count       569.000000        569.000000      569.000000           569.000000   \n",
      "mean          0.096360          0.104341        0.088799             0.048919   \n",
      "std           0.014064          0.052813        0.079720             0.038803   \n",
      "min           0.052630          0.019380        0.000000             0.000000   \n",
      "25%           0.086370          0.064920        0.029560             0.020310   \n",
      "50%           0.095870          0.092630        0.061540             0.033500   \n",
      "75%           0.105300          0.130400        0.130700             0.074000   \n",
      "max           0.163400          0.345400        0.426800             0.201200   \n",
      "\n",
      "       mean symmetry  mean fractal dimension  ...  worst radius  \\\n",
      "count     569.000000              569.000000  ...    569.000000   \n",
      "mean        0.181162                0.062798  ...     16.269190   \n",
      "std         0.027414                0.007060  ...      4.833242   \n",
      "min         0.106000                0.049960  ...      7.930000   \n",
      "25%         0.161900                0.057700  ...     13.010000   \n",
      "50%         0.179200                0.061540  ...     14.970000   \n",
      "75%         0.195700                0.066120  ...     18.790000   \n",
      "max         0.304000                0.097440  ...     36.040000   \n",
      "\n",
      "       worst texture  worst perimeter   worst area  worst smoothness  \\\n",
      "count     569.000000       569.000000   569.000000        569.000000   \n",
      "mean       25.677223       107.261213   880.583128          0.132369   \n",
      "std         6.146258        33.602542   569.356993          0.022832   \n",
      "min        12.020000        50.410000   185.200000          0.071170   \n",
      "25%        21.080000        84.110000   515.300000          0.116600   \n",
      "50%        25.410000        97.660000   686.500000          0.131300   \n",
      "75%        29.720000       125.400000  1084.000000          0.146000   \n",
      "max        49.540000       251.200000  4254.000000          0.222600   \n",
      "\n",
      "       worst compactness  worst concavity  worst concave points  \\\n",
      "count         569.000000       569.000000            569.000000   \n",
      "mean            0.254265         0.272188              0.114606   \n",
      "std             0.157336         0.208624              0.065732   \n",
      "min             0.027290         0.000000              0.000000   \n",
      "25%             0.147200         0.114500              0.064930   \n",
      "50%             0.211900         0.226700              0.099930   \n",
      "75%             0.339100         0.382900              0.161400   \n",
      "max             1.058000         1.252000              0.291000   \n",
      "\n",
      "       worst symmetry  worst fractal dimension  \n",
      "count      569.000000               569.000000  \n",
      "mean         0.290076                 0.083946  \n",
      "std          0.061867                 0.018061  \n",
      "min          0.156500                 0.055040  \n",
      "25%          0.250400                 0.071460  \n",
      "50%          0.282200                 0.080040  \n",
      "75%          0.317900                 0.092080  \n",
      "max          0.663800                 0.207500  \n",
      "\n",
      "[8 rows x 30 columns]\n",
      "y's summary:  count    569.000000\n",
      "mean       0.627417\n",
      "std        0.483918\n",
      "min        0.000000\n",
      "25%        0.000000\n",
      "50%        1.000000\n",
      "75%        1.000000\n",
      "max        1.000000\n",
      "Name: target, dtype: float64\n"
     ]
    }
   ],
   "source": [
    "X, y = load_breast_cancer(as_frame=True, return_X_y=True)\n",
    "X_train, X_test, y_train, y_test = train_test_split(\n",
    "    X, y, test_size=0.3, random_state=42\n",
    ")\n",
    "print(\"X's summary: \", X.describe())\n",
    "print(\"y's summary: \", y.describe())"
   ]
  },
  {
   "cell_type": "markdown",
   "metadata": {},
   "source": [
    "## Train a Model\n",
    "Using the above data, we train a model. To select the model, we use\n",
    ":class:`~sklearn.model_selection.HalvingGridSearchCV` with a parameter grid\n",
    "over :class:`~sklearn.ensemble.HistGradientBoostingClassifier`.\n",
    "\n"
   ]
  },
  {
   "cell_type": "code",
   "execution_count": 4,
   "metadata": {
    "collapsed": false,
    "jupyter": {
     "outputs_hidden": false
    }
   },
   "outputs": [
    {
     "data": {
      "text/plain": [
       "0.9590643274853801"
      ]
     },
     "execution_count": 4,
     "metadata": {},
     "output_type": "execute_result"
    }
   ],
   "source": [
    "param_grid = {\n",
    "    \"max_leaf_nodes\": [5, 10, 15],\n",
    "    \"max_depth\": [2, 5, 10],\n",
    "}\n",
    "\n",
    "model = HalvingGridSearchCV(\n",
    "    estimator=HistGradientBoostingClassifier(),\n",
    "    param_grid=param_grid,\n",
    "    random_state=42,\n",
    "    n_jobs=-1,\n",
    ").fit(X_train, y_train)\n",
    "model.score(X_test, y_test)"
   ]
  },
  {
   "cell_type": "markdown",
   "metadata": {},
   "source": [
    "## Initialize a repository to save our files in\n",
    "We will now initialize a repository and save our model\n",
    "\n"
   ]
  },
  {
   "cell_type": "code",
   "execution_count": 9,
   "metadata": {},
   "outputs": [],
   "source": [
    "model_name = ''.join(random.choices(string.ascii_lowercase +\n",
    "                             string.digits, k=6))"
   ]
  },
  {
   "cell_type": "code",
   "execution_count": 13,
   "metadata": {
    "collapsed": false,
    "jupyter": {
     "outputs_hidden": false
    }
   },
   "outputs": [],
   "source": [
    "local_repo = 'models/skops-'+f'{model_name}'\n",
    "os.mkdir(f'{local_repo}')\n",
    "\n",
    "pkl_name = 'models/skops-'+f'{model_name}'+'.pkl'\n",
    "\n",
    "with open(pkl_name, mode=\"bw\") as f:\n",
    "    pickle.dump(model, file=f)\n",
    "\n",
    "hub_utils.init(\n",
    "    model=pkl_name,\n",
    "    requirements=[f\"scikit-learn={sklearn.__version__}\"],\n",
    "    dst=local_repo,\n",
    "    task=\"tabular-classification\",\n",
    "    data=X_test,\n",
    ")"
   ]
  },
  {
   "cell_type": "code",
   "execution_count": 14,
   "metadata": {},
   "outputs": [
    {
     "data": {
      "text/plain": [
       "'models/skops-rm40n8.pkl'"
      ]
     },
     "execution_count": 14,
     "metadata": {},
     "output_type": "execute_result"
    }
   ],
   "source": [
    "pkl_name"
   ]
  },
  {
   "cell_type": "markdown",
   "metadata": {},
   "source": [
    "## Create a model card\n",
    "We now create a model card, and populate its metadata with information which\n",
    "is already provided in ``config.json``, which itself is created by the call to\n",
    ":func:`.hub_utils.init` above. We will see below how we can populate the model\n",
    "card with useful information.\n",
    "\n"
   ]
  },
  {
   "cell_type": "code",
   "execution_count": 15,
   "metadata": {
    "collapsed": false,
    "jupyter": {
     "outputs_hidden": false
    }
   },
   "outputs": [],
   "source": [
    "model_card = Card(model, metadata=metadata_from_config(Path(local_repo)))"
   ]
  },
  {
   "cell_type": "markdown",
   "metadata": {},
   "source": [
    "## Add more information\n",
    "So far, the model card does not tell viewers a lot about the model. Therefore,\n",
    "we add more information about the model, like a description and what its\n",
    "license is.\n",
    "\n"
   ]
  },
  {
   "cell_type": "code",
   "execution_count": 16,
   "metadata": {
    "collapsed": false,
    "jupyter": {
     "outputs_hidden": false
    }
   },
   "outputs": [
    {
     "data": {
      "text/plain": [
       "Card(\n",
       "  model=HalvingGridSearchCV(estimator=H...des': [5, 10, 15]}, random_state=42),\n",
       "  metadata.license=mit,\n",
       "  metadata.library_name=sklearn,\n",
       "  metadata.tags=['sklearn', 'skops', 'tabular-classification'],\n",
       "  metadata.model_format=pickle,\n",
       "  metadata.model_file=skops-rm40n8.pkl,\n",
       "  metadata.widget={...},\n",
       "  Model description=This is a `HistGrad...on `max_leaf_nodes` and `max_depth`.,\n",
       "  Model description/Intended uses & lim... not ready to be used in production.,\n",
       "  Model description/Training Procedure/...oring | | | verbose | 0 | </details>,\n",
       "  Model description/Training Procedure/...</div></div></div></div></div></div>,\n",
       "  Model Card Authors=skops_user,\n",
       "  Citation=**BibTeX** ``` @inproceedings{...,year={2020}} ```,\n",
       ")"
      ]
     },
     "execution_count": 16,
     "metadata": {},
     "output_type": "execute_result"
    }
   ],
   "source": [
    "model_card.metadata.license = \"mit\"\n",
    "limitations = \"This model is not ready to be used in production.\"\n",
    "model_description = (\n",
    "    \"This is a `HistGradientBoostingClassifier` model trained on breast cancer \"\n",
    "    \"dataset. It's trained with `HalvingGridSearchCV`, with parameter grids on \"\n",
    "    \"`max_leaf_nodes` and `max_depth`.\"\n",
    ")\n",
    "model_card_authors = \"skops_user\"\n",
    "citation_bibtex = \"**BibTeX**\\n\\n```\\n@inproceedings{...,year={2020}}\\n```\"\n",
    "model_card.add(\n",
    "    **{\n",
    "        \"Citation\": citation_bibtex,\n",
    "        \"Model Card Authors\": model_card_authors,\n",
    "        \"Model description\": model_description,\n",
    "        \"Model description/Intended uses & limitations\": limitations,\n",
    "    }\n",
    ")"
   ]
  },
  {
   "cell_type": "markdown",
   "metadata": {},
   "source": [
    "## Add plots, metrics, and tables to our model card\n",
    "Furthermore, to better understand the model performance, we should evaluate it\n",
    "on certain metrics and add those evaluations to the model card. In this\n",
    "particular example, we want to calculate the accuracy and the F1 score. We\n",
    "calculate those using sklearn and then add them to the model card by calling\n",
    ":meth:`.Card.add_metrics`. But this is not all, we can also add matplotlib\n",
    "figures to the model card, e.g. a plot of the confusion matrix. To achieve\n",
    "this, we create the plot using sklearn, save it locally, and then add it using\n",
    ":meth:`.Card.add_plot` method. Finally, we can also add some useful tables to\n",
    "the model card, e.g. the results from the grid search and the classification\n",
    "report. Those can be added using :meth:`.Card.add_table`\n",
    "\n"
   ]
  },
  {
   "cell_type": "code",
   "execution_count": 17,
   "metadata": {
    "collapsed": false,
    "jupyter": {
     "outputs_hidden": false
    }
   },
   "outputs": [
    {
     "data": {
      "text/plain": [
       "Card(\n",
       "  model=HalvingGridSearchCV(estimator=H...des': [5, 10, 15]}, random_state=42),\n",
       "  metadata.license=mit,\n",
       "  metadata.library_name=sklearn,\n",
       "  metadata.tags=['sklearn', 'skops', 'tabular-classification'],\n",
       "  metadata.model_format=pickle,\n",
       "  metadata.model_file=skops-rm40n8.pkl,\n",
       "  metadata.widget={...},\n",
       "  Model description=This is a `HistGrad...on `max_leaf_nodes` and `max_depth`.,\n",
       "  Model description/Intended uses & lim... not ready to be used in production.,\n",
       "  Model description/Training Procedure/...oring | | | verbose | 0 | </details>,\n",
       "  Model description/Training Procedure/...</div></div></div></div></div></div>,\n",
       "  Model description/Evaluation Results=...| 0.959064 | | f1 score | 0.959064 |,\n",
       "  Model description/Evaluation Results/Confusion Matrix='confusion_matrix.png',\n",
       "  Model description/Evaluation Results/...arameter search results=Table(13x24),\n",
       "  Model description/Evaluation Results/Classification report=Table(4x5),\n",
       "  Model Card Authors=skops_user,\n",
       "  Citation=**BibTeX** ``` @inproceedings{...,year={2020}} ```,\n",
       ")"
      ]
     },
     "execution_count": 17,
     "metadata": {},
     "output_type": "execute_result"
    },
    {
     "data": {
      "image/png": "[encoded data removed]",
      "text/plain": [
       "<Figure size 640x480 with 2 Axes>"
      ]
     },
     "metadata": {},
     "output_type": "display_data"
    }
   ],
   "source": [
    "y_pred = model.predict(X_test)\n",
    "eval_descr = (\n",
    "    \"The model is evaluated on test data using accuracy and F1-score with \"\n",
    "    \"macro average.\"\n",
    ")\n",
    "model_card.add(**{\"Model description/Evaluation Results\": eval_descr})\n",
    "\n",
    "accuracy = accuracy_score(y_test, y_pred)\n",
    "f1 = f1_score(y_test, y_pred, average=\"micro\")\n",
    "model_card.add_metrics(**{\"accuracy\": accuracy, \"f1 score\": f1})\n",
    "\n",
    "cm = confusion_matrix(y_test, y_pred, labels=model.classes_)\n",
    "disp = ConfusionMatrixDisplay(confusion_matrix=cm, display_labels=model.classes_)\n",
    "disp.plot()\n",
    "\n",
    "disp.figure_.savefig(Path(local_repo) / \"confusion_matrix.png\")\n",
    "model_card.add_plot(\n",
    "    **{\"Model description/Evaluation Results/Confusion Matrix\": \"confusion_matrix.png\"}\n",
    ")\n",
    "\n",
    "cv_results = model.cv_results_\n",
    "clf_report = classification_report(\n",
    "    y_test, y_pred, output_dict=True, target_names=[\"malignant\", \"benign\"]\n",
    ")\n",
    "# The classification report has to be transformed into a DataFrame first to have\n",
    "# the correct format. This requires removing the \"accuracy\", which was added\n",
    "# above anyway.\n",
    "del clf_report[\"accuracy\"]\n",
    "clf_report = pd.DataFrame(clf_report).T.reset_index()\n",
    "model_card.add_table(\n",
    "    folded=True,\n",
    "    **{\n",
    "        \"Model description/Evaluation Results/Hyperparameter search results\": cv_results,\n",
    "        \"Model description/Evaluation Results/Classification report\": clf_report,\n",
    "    },\n",
    ")"
   ]
  },
  {
   "cell_type": "markdown",
   "metadata": {},
   "source": [
    "## Save model card\n",
    "We can simply save our model card by providing a path to :meth:`.Card.save`.\n",
    "\n"
   ]
  },
  {
   "cell_type": "code",
   "execution_count": 18,
   "metadata": {
    "collapsed": false,
    "jupyter": {
     "outputs_hidden": false
    }
   },
   "outputs": [],
   "source": [
    "model_card.save(Path(local_repo) / \"README.md\")"
   ]
  }
 ],
 "metadata": {
  "kernelspec": {
   "display_name": "Python 3 (ipykernel)",
   "language": "python",
   "name": "python3"
  },
  "language_info": {
   "codemirror_mode": {
    "name": "ipython",
    "version": 3
   },
   "file_extension": ".py",
   "mimetype": "text/x-python",
   "name": "python",
   "nbconvert_exporter": "python",
   "pygments_lexer": "ipython3",
   "version": "3.9.13"
  }
 },
 "nbformat": 4,
 "nbformat_minor": 4
}
