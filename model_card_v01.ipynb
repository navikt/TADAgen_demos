{
 "cells": [
  {
   "cell_type": "markdown",
   "metadata": {},
   "source": [
    "\n",
    "# Skops / scikit-learn model cards\n",
    "\n",
    "Forsøk på å lage et modellkort med skops for \"uføre-diagnose-statisikk-modellen\".\n"
   ]
  },
  {
   "cell_type": "code",
   "execution_count": 86,
   "metadata": {
    "jupyter": {
     "outputs_hidden": false
    }
   },
   "outputs": [],
   "source": [
    "import os\n",
    "import string\n",
    "import pickle\n",
    "import random\n",
    "from pathlib import Path\n",
    "from tempfile import mkdtemp, mkstemp\n",
    "from IPython.display import Markdown, display\n",
    "\n",
    "import pandas as pd\n",
    "import sklearn\n",
    "from sklearn.datasets import load_breast_cancer\n",
    "from sklearn.ensemble import HistGradientBoostingClassifier\n",
    "from sklearn.linear_model import LogisticRegression\n",
    "from sklearn.experimental import enable_halving_search_cv  # noqa\n",
    "from sklearn.metrics import (\n",
    "    ConfusionMatrixDisplay,\n",
    "    accuracy_score,\n",
    "    classification_report,\n",
    "    confusion_matrix,\n",
    "    f1_score,roc_curve\n",
    ")\n",
    "from sklearn.model_selection import HalvingGridSearchCV, train_test_split\n",
    "\n",
    "from skops import hub_utils\n",
    "from skops.card import Card#, metadata_from_configimport\n",
    "from skops.card import metadata_from_config\n",
    "\n",
    "%matplotlib inline"
   ]
  },
  {
   "cell_type": "markdown",
   "metadata": {},
   "source": [
    "## Load digits dataset and create train and test sets"
   ]
  },
  {
   "cell_type": "code",
   "execution_count": 114,
   "metadata": {},
   "outputs": [
    {
     "name": "stdout",
     "output_type": "stream",
     "text": [
      "X's summary:         pixel_0_0    pixel_0_1    pixel_0_2    pixel_0_3    pixel_0_4  \\\n",
      "count     1797.0  1797.000000  1797.000000  1797.000000  1797.000000   \n",
      "mean         0.0     0.303840     5.204786    11.835838    11.848080   \n",
      "std          0.0     0.907192     4.754826     4.248842     4.287388   \n",
      "min          0.0     0.000000     0.000000     0.000000     0.000000   \n",
      "25%          0.0     0.000000     1.000000    10.000000    10.000000   \n",
      "50%          0.0     0.000000     4.000000    13.000000    13.000000   \n",
      "75%          0.0     0.000000     9.000000    15.000000    15.000000   \n",
      "max          0.0     8.000000    16.000000    16.000000    16.000000   \n",
      "\n",
      "         pixel_0_5    pixel_0_6    pixel_0_7    pixel_1_0    pixel_1_1  ...  \\\n",
      "count  1797.000000  1797.000000  1797.000000  1797.000000  1797.000000  ...   \n",
      "mean      5.781859     1.362270     0.129661     0.005565     1.993879  ...   \n",
      "std       5.666418     3.325775     1.037383     0.094222     3.196160  ...   \n",
      "min       0.000000     0.000000     0.000000     0.000000     0.000000  ...   \n",
      "25%       0.000000     0.000000     0.000000     0.000000     0.000000  ...   \n",
      "50%       4.000000     0.000000     0.000000     0.000000     0.000000  ...   \n",
      "75%      11.000000     0.000000     0.000000     0.000000     3.000000  ...   \n",
      "max      16.000000    16.000000    15.000000     2.000000    16.000000  ...   \n",
      "\n",
      "         pixel_6_6    pixel_6_7    pixel_7_0    pixel_7_1    pixel_7_2  \\\n",
      "count  1797.000000  1797.000000  1797.000000  1797.000000  1797.000000   \n",
      "mean      3.725097     0.206455     0.000556     0.279354     5.557596   \n",
      "std       4.919406     0.984401     0.023590     0.934302     5.103019   \n",
      "min       0.000000     0.000000     0.000000     0.000000     0.000000   \n",
      "25%       0.000000     0.000000     0.000000     0.000000     1.000000   \n",
      "50%       1.000000     0.000000     0.000000     0.000000     4.000000   \n",
      "75%       7.000000     0.000000     0.000000     0.000000    10.000000   \n",
      "max      16.000000    13.000000     1.000000     9.000000    16.000000   \n",
      "\n",
      "         pixel_7_3    pixel_7_4    pixel_7_5    pixel_7_6    pixel_7_7  \n",
      "count  1797.000000  1797.000000  1797.000000  1797.000000  1797.000000  \n",
      "mean     12.089037    11.809126     6.764051     2.067891     0.364496  \n",
      "std       4.374694     4.933947     5.900623     4.090548     1.860122  \n",
      "min       0.000000     0.000000     0.000000     0.000000     0.000000  \n",
      "25%      11.000000    10.000000     0.000000     0.000000     0.000000  \n",
      "50%      13.000000    14.000000     6.000000     0.000000     0.000000  \n",
      "75%      16.000000    16.000000    12.000000     2.000000     0.000000  \n",
      "max      16.000000    16.000000    16.000000    16.000000    16.000000  \n",
      "\n",
      "[8 rows x 64 columns]\n",
      "y's summary:  count    1797.000000\n",
      "mean        4.490818\n",
      "std         2.865304\n",
      "min         0.000000\n",
      "25%         2.000000\n",
      "50%         4.000000\n",
      "75%         7.000000\n",
      "max         9.000000\n",
      "Name: target, dtype: float64\n"
     ]
    }
   ],
   "source": [
    "def load_digits_data():\n",
    "    from sklearn.datasets import load_digits\n",
    "    from sklearn.model_selection import train_test_split\n",
    "\n",
    "    X, y = load_digits(as_frame=True, return_X_y=True)\n",
    "    X_train, X_test, y_train, y_test = train_test_split(\n",
    "        X, y, test_size=0.3, random_state=42\n",
    "    )\n",
    "    print(\"X's summary: \", X.describe())\n",
    "    print(\"y's summary: \", y.describe())\n",
    "\n",
    "    return X_train, X_test, y_train, y_test\n",
    "\n",
    "\n",
    "X_train, X_test, y_train, y_test = load_digits_data()\n"
   ]
  },
  {
   "cell_type": "markdown",
   "metadata": {},
   "source": [
    "## Train a Model\n",
    "\n"
   ]
  },
  {
   "cell_type": "code",
   "execution_count": 116,
   "metadata": {
    "jupyter": {
     "outputs_hidden": false
    }
   },
   "outputs": [],
   "source": [
    "from sklearn.linear_model import LogisticRegression\n",
    "from sklearn.experimental import enable_halving_search_cv\n",
    "from sklearn.model_selection import HalvingGridSearchCV\n",
    "def train_logistic_regression(X_train, y_train, X_test, y_test, param_grid=None):\n",
    "\n",
    "    model = HalvingGridSearchCV(\n",
    "        estimator=LogisticRegression(),\n",
    "        param_grid=param_grid,\n",
    "        random_state=42,\n",
    "        n_jobs=-1,\n",
    "    ).fit(X_train, y_train)\n",
    "    \n",
    "    return model\n"
   ]
  },
  {
   "cell_type": "code",
   "execution_count": 117,
   "metadata": {},
   "outputs": [
    {
     "name": "stderr",
     "output_type": "stream",
     "text": [
      "/Users/rprabhu/Ana/tadagen/mcardvenv/lib/python3.9/site-packages/sklearn/linear_model/_sag.py:350: ConvergenceWarning: The max_iter was reached which means the coef_ did not converge\n",
      "  warnings.warn(\n",
      "/Users/rprabhu/Ana/tadagen/mcardvenv/lib/python3.9/site-packages/sklearn/linear_model/_sag.py:350: ConvergenceWarning: The max_iter was reached which means the coef_ did not converge\n",
      "  warnings.warn(\n",
      "/Users/rprabhu/Ana/tadagen/mcardvenv/lib/python3.9/site-packages/sklearn/linear_model/_sag.py:350: ConvergenceWarning: The max_iter was reached which means the coef_ did not converge\n",
      "  warnings.warn(\n",
      "/Users/rprabhu/Ana/tadagen/mcardvenv/lib/python3.9/site-packages/sklearn/linear_model/_sag.py:350: ConvergenceWarning: The max_iter was reached which means the coef_ did not converge\n",
      "  warnings.warn(\n",
      "/Users/rprabhu/Ana/tadagen/mcardvenv/lib/python3.9/site-packages/sklearn/linear_model/_sag.py:350: ConvergenceWarning: The max_iter was reached which means the coef_ did not converge\n",
      "  warnings.warn(\n",
      "/Users/rprabhu/Ana/tadagen/mcardvenv/lib/python3.9/site-packages/sklearn/linear_model/_sag.py:350: ConvergenceWarning: The max_iter was reached which means the coef_ did not converge\n",
      "  warnings.warn(\n",
      "/Users/rprabhu/Ana/tadagen/mcardvenv/lib/python3.9/site-packages/sklearn/linear_model/_sag.py:350: ConvergenceWarning: The max_iter was reached which means the coef_ did not converge\n",
      "  warnings.warn(\n",
      "/Users/rprabhu/Ana/tadagen/mcardvenv/lib/python3.9/site-packages/sklearn/linear_model/_sag.py:350: ConvergenceWarning: The max_iter was reached which means the coef_ did not converge\n",
      "  warnings.warn(\n",
      "/Users/rprabhu/Ana/tadagen/mcardvenv/lib/python3.9/site-packages/sklearn/linear_model/_sag.py:350: ConvergenceWarning: The max_iter was reached which means the coef_ did not converge\n",
      "  warnings.warn(\n",
      "/Users/rprabhu/Ana/tadagen/mcardvenv/lib/python3.9/site-packages/sklearn/linear_model/_sag.py:350: ConvergenceWarning: The max_iter was reached which means the coef_ did not converge\n",
      "  warnings.warn(\n",
      "/Users/rprabhu/Ana/tadagen/mcardvenv/lib/python3.9/site-packages/sklearn/linear_model/_sag.py:350: ConvergenceWarning: The max_iter was reached which means the coef_ did not converge\n",
      "  warnings.warn(\n",
      "/Users/rprabhu/Ana/tadagen/mcardvenv/lib/python3.9/site-packages/sklearn/linear_model/_sag.py:350: ConvergenceWarning: The max_iter was reached which means the coef_ did not converge\n",
      "  warnings.warn(\n",
      "/Users/rprabhu/Ana/tadagen/mcardvenv/lib/python3.9/site-packages/sklearn/linear_model/_sag.py:350: ConvergenceWarning: The max_iter was reached which means the coef_ did not converge\n",
      "  warnings.warn(\n",
      "/Users/rprabhu/Ana/tadagen/mcardvenv/lib/python3.9/site-packages/sklearn/linear_model/_sag.py:350: ConvergenceWarning: The max_iter was reached which means the coef_ did not converge\n",
      "  warnings.warn(\n",
      "/Users/rprabhu/Ana/tadagen/mcardvenv/lib/python3.9/site-packages/sklearn/linear_model/_sag.py:350: ConvergenceWarning: The max_iter was reached which means the coef_ did not converge\n",
      "  warnings.warn(\n",
      "/Users/rprabhu/Ana/tadagen/mcardvenv/lib/python3.9/site-packages/sklearn/linear_model/_sag.py:350: ConvergenceWarning: The max_iter was reached which means the coef_ did not converge\n",
      "  warnings.warn(\n",
      "/Users/rprabhu/Ana/tadagen/mcardvenv/lib/python3.9/site-packages/sklearn/linear_model/_sag.py:350: ConvergenceWarning: The max_iter was reached which means the coef_ did not converge\n",
      "  warnings.warn(\n",
      "/Users/rprabhu/Ana/tadagen/mcardvenv/lib/python3.9/site-packages/sklearn/linear_model/_sag.py:350: ConvergenceWarning: The max_iter was reached which means the coef_ did not converge\n",
      "  warnings.warn(\n",
      "/Users/rprabhu/Ana/tadagen/mcardvenv/lib/python3.9/site-packages/sklearn/linear_model/_sag.py:350: ConvergenceWarning: The max_iter was reached which means the coef_ did not converge\n",
      "  warnings.warn(\n",
      "/Users/rprabhu/Ana/tadagen/mcardvenv/lib/python3.9/site-packages/sklearn/linear_model/_sag.py:350: ConvergenceWarning: The max_iter was reached which means the coef_ did not converge\n",
      "  warnings.warn(\n",
      "/Users/rprabhu/Ana/tadagen/mcardvenv/lib/python3.9/site-packages/sklearn/linear_model/_sag.py:350: ConvergenceWarning: The max_iter was reached which means the coef_ did not converge\n",
      "  warnings.warn(\n",
      "/Users/rprabhu/Ana/tadagen/mcardvenv/lib/python3.9/site-packages/sklearn/linear_model/_sag.py:350: ConvergenceWarning: The max_iter was reached which means the coef_ did not converge\n",
      "  warnings.warn(\n",
      "/Users/rprabhu/Ana/tadagen/mcardvenv/lib/python3.9/site-packages/sklearn/linear_model/_sag.py:350: ConvergenceWarning: The max_iter was reached which means the coef_ did not converge\n",
      "  warnings.warn(\n",
      "/Users/rprabhu/Ana/tadagen/mcardvenv/lib/python3.9/site-packages/sklearn/linear_model/_sag.py:350: ConvergenceWarning: The max_iter was reached which means the coef_ did not converge\n",
      "  warnings.warn(\n",
      "/Users/rprabhu/Ana/tadagen/mcardvenv/lib/python3.9/site-packages/sklearn/linear_model/_sag.py:350: ConvergenceWarning: The max_iter was reached which means the coef_ did not converge\n",
      "  warnings.warn(\n",
      "/Users/rprabhu/Ana/tadagen/mcardvenv/lib/python3.9/site-packages/sklearn/linear_model/_sag.py:350: ConvergenceWarning: The max_iter was reached which means the coef_ did not converge\n",
      "  warnings.warn(\n",
      "/Users/rprabhu/Ana/tadagen/mcardvenv/lib/python3.9/site-packages/sklearn/linear_model/_sag.py:350: ConvergenceWarning: The max_iter was reached which means the coef_ did not converge\n",
      "  warnings.warn(\n",
      "/Users/rprabhu/Ana/tadagen/mcardvenv/lib/python3.9/site-packages/sklearn/linear_model/_sag.py:350: ConvergenceWarning: The max_iter was reached which means the coef_ did not converge\n",
      "  warnings.warn(\n",
      "/Users/rprabhu/Ana/tadagen/mcardvenv/lib/python3.9/site-packages/sklearn/linear_model/_sag.py:350: ConvergenceWarning: The max_iter was reached which means the coef_ did not converge\n",
      "  warnings.warn(\n",
      "/Users/rprabhu/Ana/tadagen/mcardvenv/lib/python3.9/site-packages/sklearn/linear_model/_sag.py:350: ConvergenceWarning: The max_iter was reached which means the coef_ did not converge\n",
      "  warnings.warn(\n",
      "/Users/rprabhu/Ana/tadagen/mcardvenv/lib/python3.9/site-packages/sklearn/linear_model/_sag.py:350: ConvergenceWarning: The max_iter was reached which means the coef_ did not converge\n",
      "  warnings.warn(\n",
      "/Users/rprabhu/Ana/tadagen/mcardvenv/lib/python3.9/site-packages/sklearn/linear_model/_sag.py:350: ConvergenceWarning: The max_iter was reached which means the coef_ did not converge\n",
      "  warnings.warn(\n",
      "/Users/rprabhu/Ana/tadagen/mcardvenv/lib/python3.9/site-packages/sklearn/linear_model/_sag.py:350: ConvergenceWarning: The max_iter was reached which means the coef_ did not converge\n",
      "  warnings.warn(\n",
      "/Users/rprabhu/Ana/tadagen/mcardvenv/lib/python3.9/site-packages/sklearn/linear_model/_sag.py:350: ConvergenceWarning: The max_iter was reached which means the coef_ did not converge\n",
      "  warnings.warn(\n",
      "/Users/rprabhu/Ana/tadagen/mcardvenv/lib/python3.9/site-packages/sklearn/linear_model/_sag.py:350: ConvergenceWarning: The max_iter was reached which means the coef_ did not converge\n",
      "  warnings.warn(\n",
      "/Users/rprabhu/Ana/tadagen/mcardvenv/lib/python3.9/site-packages/sklearn/linear_model/_sag.py:350: ConvergenceWarning: The max_iter was reached which means the coef_ did not converge\n",
      "  warnings.warn(\n",
      "/Users/rprabhu/Ana/tadagen/mcardvenv/lib/python3.9/site-packages/sklearn/linear_model/_sag.py:350: ConvergenceWarning: The max_iter was reached which means the coef_ did not converge\n",
      "  warnings.warn(\n",
      "/Users/rprabhu/Ana/tadagen/mcardvenv/lib/python3.9/site-packages/sklearn/linear_model/_sag.py:350: ConvergenceWarning: The max_iter was reached which means the coef_ did not converge\n",
      "  warnings.warn(\n",
      "/Users/rprabhu/Ana/tadagen/mcardvenv/lib/python3.9/site-packages/sklearn/linear_model/_sag.py:350: ConvergenceWarning: The max_iter was reached which means the coef_ did not converge\n",
      "  warnings.warn(\n",
      "/Users/rprabhu/Ana/tadagen/mcardvenv/lib/python3.9/site-packages/sklearn/linear_model/_sag.py:350: ConvergenceWarning: The max_iter was reached which means the coef_ did not converge\n",
      "  warnings.warn(\n",
      "/Users/rprabhu/Ana/tadagen/mcardvenv/lib/python3.9/site-packages/sklearn/linear_model/_sag.py:350: ConvergenceWarning: The max_iter was reached which means the coef_ did not converge\n",
      "  warnings.warn(\n",
      "/Users/rprabhu/Ana/tadagen/mcardvenv/lib/python3.9/site-packages/sklearn/linear_model/_sag.py:350: ConvergenceWarning: The max_iter was reached which means the coef_ did not converge\n",
      "  warnings.warn(\n",
      "/Users/rprabhu/Ana/tadagen/mcardvenv/lib/python3.9/site-packages/sklearn/linear_model/_sag.py:350: ConvergenceWarning: The max_iter was reached which means the coef_ did not converge\n",
      "  warnings.warn(\n",
      "/Users/rprabhu/Ana/tadagen/mcardvenv/lib/python3.9/site-packages/sklearn/linear_model/_sag.py:350: ConvergenceWarning: The max_iter was reached which means the coef_ did not converge\n",
      "  warnings.warn(\n",
      "/Users/rprabhu/Ana/tadagen/mcardvenv/lib/python3.9/site-packages/sklearn/linear_model/_sag.py:350: ConvergenceWarning: The max_iter was reached which means the coef_ did not converge\n",
      "  warnings.warn(\n",
      "/Users/rprabhu/Ana/tadagen/mcardvenv/lib/python3.9/site-packages/sklearn/linear_model/_sag.py:350: ConvergenceWarning: The max_iter was reached which means the coef_ did not converge\n",
      "  warnings.warn(\n",
      "/Users/rprabhu/Ana/tadagen/mcardvenv/lib/python3.9/site-packages/sklearn/linear_model/_sag.py:350: ConvergenceWarning: The max_iter was reached which means the coef_ did not converge\n",
      "  warnings.warn(\n",
      "/Users/rprabhu/Ana/tadagen/mcardvenv/lib/python3.9/site-packages/sklearn/linear_model/_sag.py:350: ConvergenceWarning: The max_iter was reached which means the coef_ did not converge\n",
      "  warnings.warn(\n",
      "/Users/rprabhu/Ana/tadagen/mcardvenv/lib/python3.9/site-packages/sklearn/linear_model/_sag.py:350: ConvergenceWarning: The max_iter was reached which means the coef_ did not converge\n",
      "  warnings.warn(\n",
      "/Users/rprabhu/Ana/tadagen/mcardvenv/lib/python3.9/site-packages/sklearn/linear_model/_sag.py:350: ConvergenceWarning: The max_iter was reached which means the coef_ did not converge\n",
      "  warnings.warn(\n",
      "/Users/rprabhu/Ana/tadagen/mcardvenv/lib/python3.9/site-packages/sklearn/linear_model/_sag.py:350: ConvergenceWarning: The max_iter was reached which means the coef_ did not converge\n",
      "  warnings.warn(\n",
      "/Users/rprabhu/Ana/tadagen/mcardvenv/lib/python3.9/site-packages/sklearn/linear_model/_sag.py:350: ConvergenceWarning: The max_iter was reached which means the coef_ did not converge\n",
      "  warnings.warn(\n",
      "/Users/rprabhu/Ana/tadagen/mcardvenv/lib/python3.9/site-packages/sklearn/linear_model/_sag.py:350: ConvergenceWarning: The max_iter was reached which means the coef_ did not converge\n",
      "  warnings.warn(\n",
      "/Users/rprabhu/Ana/tadagen/mcardvenv/lib/python3.9/site-packages/sklearn/linear_model/_sag.py:350: ConvergenceWarning: The max_iter was reached which means the coef_ did not converge\n",
      "  warnings.warn(\n",
      "/Users/rprabhu/Ana/tadagen/mcardvenv/lib/python3.9/site-packages/sklearn/linear_model/_sag.py:350: ConvergenceWarning: The max_iter was reached which means the coef_ did not converge\n",
      "  warnings.warn(\n",
      "/Users/rprabhu/Ana/tadagen/mcardvenv/lib/python3.9/site-packages/sklearn/linear_model/_sag.py:350: ConvergenceWarning: The max_iter was reached which means the coef_ did not converge\n",
      "  warnings.warn(\n",
      "/Users/rprabhu/Ana/tadagen/mcardvenv/lib/python3.9/site-packages/sklearn/linear_model/_sag.py:350: ConvergenceWarning: The max_iter was reached which means the coef_ did not converge\n",
      "  warnings.warn(\n",
      "/Users/rprabhu/Ana/tadagen/mcardvenv/lib/python3.9/site-packages/sklearn/linear_model/_sag.py:350: ConvergenceWarning: The max_iter was reached which means the coef_ did not converge\n",
      "  warnings.warn(\n",
      "/Users/rprabhu/Ana/tadagen/mcardvenv/lib/python3.9/site-packages/sklearn/linear_model/_sag.py:350: ConvergenceWarning: The max_iter was reached which means the coef_ did not converge\n",
      "  warnings.warn(\n",
      "/Users/rprabhu/Ana/tadagen/mcardvenv/lib/python3.9/site-packages/sklearn/linear_model/_sag.py:350: ConvergenceWarning: The max_iter was reached which means the coef_ did not converge\n",
      "  warnings.warn(\n"
     ]
    },
    {
     "name": "stdout",
     "output_type": "stream",
     "text": [
      "Best parameters found:  {'class_weight': 'balanced', 'fit_intercept': True, 'solver': 'saga'}\n",
      "Best score found:  0.9582939759036144\n"
     ]
    },
    {
     "name": "stderr",
     "output_type": "stream",
     "text": [
      "/Users/rprabhu/Ana/tadagen/mcardvenv/lib/python3.9/site-packages/sklearn/linear_model/_sag.py:350: ConvergenceWarning: The max_iter was reached which means the coef_ did not converge\n",
      "  warnings.warn(\n"
     ]
    }
   ],
   "source": [
    "param_grid = {\n",
    "    \"fit_intercept\": [True, False],\n",
    "    \"solver\": [\"newton-cg\", \"lbfgs\", \"liblinear\", \"sag\", \"saga\"],\n",
    "    \"class_weight\": [None, \"balanced\"],\n",
    "}\n",
    "\n",
    "model = train_logistic_regression(X_train, y_train, X_test, y_test, param_grid)\n",
    "\n",
    "print(\"Best parameters found: \", model.best_params_)\n",
    "print(\"Best score found: \", model.best_score_)\n"
   ]
  },
  {
   "cell_type": "markdown",
   "metadata": {},
   "source": [
    "## Legg alle nødvendige modellfiler i en mappe\n",
    "We will now initialize a repository and save our model\n",
    "\n"
   ]
  },
  {
   "cell_type": "code",
   "execution_count": 119,
   "metadata": {
    "jupyter": {
     "outputs_hidden": false
    }
   },
   "outputs": [],
   "source": [
    "model_name = ''.join(random.choices(string.ascii_lowercase +\n",
    "                             string.digits, k=6))\n",
    "\n",
    "local_repo = 'models/skops-'+f'{model_name}'\n",
    "pkl_name = 'models/skops-'+f'{model_name}'+'.pkl'\n",
    "os.mkdir(f'{local_repo}')\n",
    "\n",
    "with open(pkl_name, mode=\"bw\") as f:\n",
    "    pickle.dump(model, file=f)\n",
    "\n",
    "hub_utils.init(\n",
    "    model=pkl_name,\n",
    "    requirements=[f\"scikit-learn={sklearn.__version__}\"],\n",
    "    dst=local_repo,\n",
    "    task=\"tabular-classification\",\n",
    "    data=X_test,\n",
    ")"
   ]
  },
  {
   "cell_type": "markdown",
   "metadata": {},
   "source": [
    "## Lager et modellkort\n",
    "\n"
   ]
  },
  {
   "cell_type": "code",
   "execution_count": 120,
   "metadata": {
    "jupyter": {
     "outputs_hidden": false
    }
   },
   "outputs": [],
   "source": [
    "model_card = Card(model, metadata=metadata_from_config(Path(local_repo)))\n",
    "\n",
    "card_name = \"ModelCard_v01.md\"\n",
    "model_card.save(card_name)\n",
    "#display(Markdown(card_name))\n"
   ]
  },
  {
   "cell_type": "markdown",
   "metadata": {},
   "source": [
    "## Legger til informasjon om modellen i modellkortet"
   ]
  },
  {
   "cell_type": "code",
   "execution_count": 133,
   "metadata": {
    "jupyter": {
     "outputs_hidden": false
    }
   },
   "outputs": [
    {
     "data": {
      "text/plain": [
       "Card(\n",
       "  model=HalvingGridSearchCV(estimator=L...', 'sag', 'saga']}, random_state=42),\n",
       "  metadata.license=MIT,\n",
       "  metadata.library_name=sklearn,\n",
       "  metadata.tags=['sklearn', 'skops', 'tabular-classification'],\n",
       "  metadata.model_format=pickle,\n",
       "  metadata.model_file=skops-rvunsg.pkl,\n",
       "  metadata.widget=[{...}],\n",
       "  Model description= Modell for produks...ng *Inngår personopplysninger?*: JA ,\n",
       "  Model description/Intended uses & lim...ekkes bedre - Kode må optimaliseres ,\n",
       "  Model description/Training Procedure=...og AAP-løp. *Primærkilde(r)*: JOARK ,\n",
       "  Model description/Training Procedure/Hyperparameters=TableSection(30x2),\n",
       "  Model description/Training Procedure/...</div></div></div></div></div></div>,\n",
       "  Model description/Evaluation Results=...nger. *CO2-utslipp?*: Ikke vurdert. ,\n",
       "  Model description/Evaluation Results/...ix=PlotSection(confusion_matrix.png),\n",
       "  Model description/Evaluation Results/...r search results=TableSection(30x25),\n",
       "  Model description/Evaluation Results/...sification report=TableSection(12x5),\n",
       "  Model description/Modelldetaljer=Mode...ke diagnosekoder gitt fritekstfelt. ,\n",
       "  Model Card Authors=Team TADA, PO xyz,\n",
       "  Model Card Contact=**Slack**: #tada, **epost**: ta-kontakt-med-oss@nav.no,\n",
       "  Citation=**Etterlevelse**: etterlevelse.intern.nav.no```,\n",
       "  Tiltenkt brukt= Modellen er kun tilte...kk/uforetrygd/diagnoser-uforetrygd) ,\n",
       "  Personopplysninger=Inngår personopplysninger?: JA,\n",
       "  Datagrunnlag= Medisinske dokumenter f...og AAP-løp. *Primærkilde(r)*: JOARK ,\n",
       "  Valg av modell= Klassifisering vha `L...kes modell utenifra?*: Egenutviklet ,\n",
       "  Parent model=None,\n",
       "  Evaluering= *Hvilke metrikker er bruk...nger. *CO2-utslipp?*: Ikke vurdert. ,\n",
       "  Evalueringsresultater=Modellen er pri...med 'macro' som gjennomsnittsmetode.,\n",
       ")"
      ]
     },
     "execution_count": 133,
     "metadata": {},
     "output_type": "execute_result"
    }
   ],
   "source": [
    "model_card.metadata.license = \"MIT\"\n",
    "\n",
    "# MODEL DESCRIPTION\n",
    "model_description = (\n",
    "    \"\"\"\n",
    "    Modell for produksjon av grunnlagsdata for statistikk på diagnoser for uføretrygdede. \n",
    "    Modellene benytter numeriske features fra TF-idf vektorisering av fritekstfelter i medisinske dokumenter. \n",
    "    \n",
    "    \n",
    "    *Utfall*: Predikert *diagnosegruppe-kode* gitt tekstinnhold i grunnlagsdokumenter.\n",
    "\n",
    "    *Type*: Klassifisering, Logistisk regresjon\n",
    "\n",
    "    *Læringsmetode*: Veiledet læring\n",
    "\n",
    "    *Inngår personopplysninger?*: JA\n",
    "\n",
    "    \"\"\"\n",
    ")\n",
    "\n",
    "# BRUK\n",
    "bruk = \"\"\"\n",
    "Modellen er kun tiltenkt bruk i produksjon av offentlig statikk for \n",
    "[diagnoser på uføretrygd](https://www.nav.no/no/nav-og-samfunn/statistikk/aap-nedsatt-arbeidsevne-og-uforetrygd-statistikk/uforetrygd/diagnoser-uforetrygd)\n",
    "\"\"\"\n",
    "\n",
    "\n",
    "# DATAGRUNNLAG\n",
    "datagrunnlag = \"\"\"\n",
    "Medisinske dokumenter for alle nye uføretrygdede i perioden 2013-2016. \n",
    "Dokumentene er skrevet av tredjeparter (f.eks. leger) og samlet inn gjennom sykemeldings- og AAP-løp.\n",
    "\n",
    "*Primærkilde(r)*: JOARK\n",
    "\"\"\"\n",
    "\n",
    "# VALG AV MODELL\n",
    "valg_av_modell = \"\"\" \n",
    "Klassifisering vha `LogisticRegression`. \n",
    "Modellen er valgt fordi den representerer en enkel, rask og forklarbar modell for klassifisering av tabulære data.\n",
    "\n",
    "*Er modellen egenutviklet i Nav eller brukes modell utenifra?*: Egenutviklet  \n",
    "\n",
    "\"\"\" \n",
    "\n",
    "# PARENT MODEL\n",
    "parent_model = \"None\"\n",
    "\n",
    "# EVALUERING\n",
    "model_evaluering = \"\"\"\n",
    "\n",
    "*Hvilke metrikker er brukt for å vurdere modellens treffsikkerhet?*:\\n *accuracy* og *F1-score* (se detaljer under) \n",
    "\n",
    "*Hva er definisjonen av suksess?*:\\n Riktig klassifisering \n",
    "\n",
    "*Hvordan treffer modellen forskjellige undergrupper?* : \\n Modellen er best på de største diagnosegruppene i treningsgrunnlaget.  \n",
    "Features i modellen er utelukkende tekst, så har ikke evaluert for eksempel hvordan demografiske grupper slår ut mtp feilklassifisering \n",
    "\n",
    "*Hvordan har du gått fram for å forstå hvorfor modellen predikerer som den gjør?*:\\n  Produsert statistikk på prediksjon vs observert verdi \n",
    "\n",
    "*Hvordan har du tenkt på modellsikkerhet?*:\\n  Ingen særskilte vurderinger.\n",
    "\n",
    "*CO2-utslipp?*:\\n Ikke vurdert.\n",
    "\n",
    "\"\"\"\n",
    "\n",
    "# LIMITATIONS\n",
    "limitations = \"\"\"\n",
    "\n",
    "*Hvilke kjente begrensninger har modellen?*:\\n  Modellen viser særlige svakheter overfor *ICD-gruppe T* (Skader ol.) \n",
    "\n",
    "*Kjente risikoer ved å ta i bruk denne modellen?*:\\n  Trent på diagnosekodeverk som skal erstattes.  \n",
    "\n",
    "*Hvilke anbefalinger har du når modellen tas i bruk?*:\\n \n",
    "\n",
    " - Må retrenes  \n",
    " - Datakvalitet må sjekkes bedre\n",
    "- Kode må optimaliseres \n",
    "\"\"\"\n",
    "\n",
    "# WHO MADE IT?\n",
    "model_card_authors = \"Team TADA, PO xyz\"\n",
    "model_card_contact = \"**Slack**: #tada, **epost**: ta-kontakt-med-oss@nav.no\"\n",
    "citation_bibtex = \"**Etterlevelse**: etterlevelse.intern.nav.no```\"\n",
    "\n",
    "\n",
    "\n",
    "# ADD IT ALL TO THE CARD\n",
    "model_card.add(\n",
    "    **{\n",
    "        \"Model description\": model_description,\n",
    "        \"Model description/Intended uses & limitations\": bruk,\n",
    "        \"Model description/Intended uses & limitations\": limitations,\n",
    "        \"Model description/Training Procedure\": datagrunnlag,\n",
    "        \"Valg av modell\":valg_av_modell,\n",
    "        \"Parent model\": parent_model,\n",
    "        \"Model description/Evaluation Results\": model_evaluering,\n",
    "\n",
    "        \"Citation\": citation_bibtex,\n",
    "        \"Model Card Authors\": model_card_authors,\n",
    "        \"Model Card Contact\": model_card_contact,\n",
    "    }\n",
    ")"
   ]
  },
  {
   "cell_type": "markdown",
   "metadata": {},
   "source": [
    "## Add plots, metrics, and tables to our model card\n",
    "Furthermore, to better understand the model performance, we should evaluate it\n",
    "on certain metrics and add those evaluations to the model card. In this\n",
    "particular example, we want to calculate the accuracy and the F1 score. We\n",
    "calculate those using sklearn and then add them to the model card by calling\n",
    ":meth:`.Card.add_metrics`. But this is not all, we can also add matplotlib\n",
    "figures to the model card, e.g. a plot of the confusion matrix. To achieve\n",
    "this, we create the plot using sklearn, save it locally, and then add it using\n",
    ":meth:`.Card.add_plot` method. Finally, we can also add some useful tables to\n",
    "the model card, e.g. the results from the grid search and the classification\n",
    "report. Those can be added using :meth:`.Card.add_table`\n",
    "\n"
   ]
  },
  {
   "cell_type": "code",
   "execution_count": 134,
   "metadata": {
    "jupyter": {
     "outputs_hidden": false
    }
   },
   "outputs": [
    {
     "data": {
      "text/plain": [
       "Card(\n",
       "  model=HalvingGridSearchCV(estimator=L...', 'sag', 'saga']}, random_state=42),\n",
       "  metadata.license=MIT,\n",
       "  metadata.library_name=sklearn,\n",
       "  metadata.tags=['sklearn', 'skops', 'tabular-classification'],\n",
       "  metadata.model_format=pickle,\n",
       "  metadata.model_file=skops-rvunsg.pkl,\n",
       "  metadata.widget=[{...}],\n",
       "  Model description= Modell for produks...ng *Inngår personopplysninger?*: JA ,\n",
       "  Model description/Intended uses & lim...ekkes bedre - Kode må optimaliseres ,\n",
       "  Model description/Training Procedure=...og AAP-løp. *Primærkilde(r)*: JOARK ,\n",
       "  Model description/Training Procedure/Hyperparameters=TableSection(30x2),\n",
       "  Model description/Training Procedure/...</div></div></div></div></div></div>,\n",
       "  Model description/Evaluation Results=TableSection(2x2),\n",
       "  Model description/Evaluation Results/...ix=PlotSection(confusion_matrix.png),\n",
       "  Model description/Evaluation Results/...r search results=TableSection(30x25),\n",
       "  Model description/Evaluation Results/...sification report=TableSection(12x5),\n",
       "  Model description/Modelldetaljer=Mode...ke diagnosekoder gitt fritekstfelt. ,\n",
       "  Model Card Authors=Team TADA, PO xyz,\n",
       "  Model Card Contact=**Slack**: #tada, **epost**: ta-kontakt-med-oss@nav.no,\n",
       "  Citation=**Etterlevelse**: etterlevelse.intern.nav.no```,\n",
       "  Tiltenkt brukt= Modellen er kun tilte...kk/uforetrygd/diagnoser-uforetrygd) ,\n",
       "  Personopplysninger=Inngår personopplysninger?: JA,\n",
       "  Datagrunnlag= Medisinske dokumenter f...og AAP-løp. *Primærkilde(r)*: JOARK ,\n",
       "  Valg av modell= Klassifisering vha `L...kes modell utenifra?*: Egenutviklet ,\n",
       "  Parent model=None,\n",
       "  Evaluering= *Hvilke metrikker er bruk...nger. *CO2-utslipp?*: Ikke vurdert. ,\n",
       "  Evalueringsresultater=Modellen er pri...med 'macro' som gjennomsnittsmetode.,\n",
       ")"
      ]
     },
     "execution_count": 134,
     "metadata": {},
     "output_type": "execute_result"
    },
    {
     "data": {
      "image/png": "[encoded data removed]",
      "text/plain": [
       "<Figure size 640x480 with 2 Axes>"
      ]
     },
     "metadata": {},
     "output_type": "display_data"
    }
   ],
   "source": [
    "y_pred = model.predict(X_test)\n",
    "\n",
    "# ADD AN EVALUATION\n",
    "eval_descr = (\n",
    "    \"Modellen er primært evaluert på test data og optimert for *accuracy* og *F1-score* med 'macro' som gjennomsnittsmetode.\"\n",
    ")\n",
    "model_card.add(**{\"Evalueringsresultater\": eval_descr})\n",
    "\n",
    "\n",
    "\n",
    "# ADD A METRIC\n",
    "accuracy = accuracy_score(y_test, y_pred)\n",
    "f1 = f1_score(y_test, y_pred, average=\"macro\")\n",
    "\n",
    "\n",
    "model_card.add_metrics(**{\"accuracy\": accuracy, \"f1 score\": f1 })\n",
    "\n",
    "# ADD A PLOT\n",
    "cm = confusion_matrix(y_test, y_pred, labels=model.classes_)\n",
    "disp = ConfusionMatrixDisplay(confusion_matrix=cm, display_labels=model.classes_)\n",
    "disp.plot()\n",
    "\n",
    "#disp.figure_.savefig(Path(local_repo) / \"confusion_matrix.png\")\n",
    "disp.figure_.savefig(Path(\"confusion_matrix.png\"))\n",
    "model_card.add_plot(\n",
    "    **{\"Model description/Evaluation Results/Confusion Matrix\": \"confusion_matrix.png\"}\n",
    ")\n",
    "\n",
    "\n",
    "\n",
    "# ADD A TABLE\n",
    "cv_results = model.cv_results_\n",
    "clf_report = classification_report(\n",
    "    y_test, y_pred, output_dict=True, target_names=[\"Diag{}\".format(val) for val in model.classes_]#[\"malignant\", \"benign\"]\n",
    ")\n",
    "# The classification report has to be transformed into a DataFrame first to have\n",
    "# the correct format. This requires removing the \"accuracy\", which was added\n",
    "# above anyway.\n",
    "del clf_report[\"accuracy\"]\n",
    "clf_report = pd.DataFrame(clf_report).T.reset_index()\n",
    "model_card.add_table(\n",
    "    folded=True,\n",
    "    **{\n",
    "        \"Model description/Evaluation Results/Hyperparameter search results\": cv_results,\n",
    "        \"Model description/Evaluation Results/Classification report\": clf_report,\n",
    "    },\n",
    ")"
   ]
  },
  {
   "cell_type": "markdown",
   "metadata": {},
   "source": [
    "## Save model card\n",
    "We can simply save our model card by providing a path to :meth:`.Card.save`.\n",
    "\n"
   ]
  },
  {
   "cell_type": "code",
   "execution_count": 135,
   "metadata": {
    "jupyter": {
     "outputs_hidden": false
    }
   },
   "outputs": [],
   "source": [
    "model_card.save(card_name)"
   ]
  },
  {
   "cell_type": "markdown",
   "metadata": {},
   "source": []
  },
  {
   "cell_type": "code",
   "execution_count": null,
   "metadata": {},
   "outputs": [],
   "source": []
  }
 ],
 "metadata": {
  "kernelspec": {
   "display_name": "Python 3 (ipykernel)",
   "language": "python",
   "name": "python3"
  },
  "language_info": {
   "codemirror_mode": {
    "name": "ipython",
    "version": 3
   },
   "file_extension": ".py",
   "mimetype": "text/x-python",
   "name": "python",
   "nbconvert_exporter": "python",
   "pygments_lexer": "ipython3",
   "version": "3.9.12"
  }
 },
 "nbformat": 4,
 "nbformat_minor": 4
}
